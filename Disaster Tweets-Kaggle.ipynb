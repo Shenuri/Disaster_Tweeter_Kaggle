{
 "cells": [
  {
   "cell_type": "code",
   "execution_count": 1,
   "id": "508b5f41",
   "metadata": {},
   "outputs": [
    {
     "name": "stderr",
     "output_type": "stream",
     "text": [
      "Using TensorFlow backend.\n"
     ]
    }
   ],
   "source": [
    "import matplotlib.pyplot as plt\n",
    "import tensorflow as tf\n",
    "import unidecode\n",
    "import nltk\n",
    "import pandas as pd\n",
    "\n",
    "from tensorflow import keras\n",
    "from keras.preprocessing.text import text_to_word_sequence\n",
    "from gensim.parsing.preprocessing import remove_stopwords\n",
    "from nltk.corpus import stopwords\n",
    "from nltk.tokenize import word_tokenize\n",
    "from nltk.stem import PorterStemmer\n",
    "from nltk.stem import WordNetLemmatizer\n",
    "from nltk.corpus import wordnet\n",
    "from sklearn.model_selection import train_test_split\n",
    "from sklearn.feature_extraction.text import TfidfVectorizer\n",
    "from sklearn.feature_extraction.text import TfidfTransformer\n",
    "from sklearn.feature_extraction.text import CountVectorizer\n",
    "from sklearn import svm\n",
    "from sklearn.naive_bayes import MultinomialNB\n",
    "from sklearn.naive_bayes import GaussianNB\n",
    "from sklearn.metrics import roc_auc_score\n",
    "from sklearn.pipeline import Pipeline\n",
    "from sklearn.metrics import classification_report\n",
    "from sklearn.metrics import accuracy_score\n",
    "from sklearn.linear_model import SGDClassifier\n",
    "from sklearn.tree import DecisionTreeClassifier\n",
    "from sklearn.neighbors import KNeighborsClassifier\n",
    "from sklearn.linear_model import LogisticRegression\n",
    "from sklearn.ensemble import RandomForestClassifier"
   ]
  },
  {
   "cell_type": "code",
   "execution_count": 2,
   "id": "cc850ad5",
   "metadata": {},
   "outputs": [
    {
     "data": {
      "text/html": [
       "<div>\n",
       "<style scoped>\n",
       "    .dataframe tbody tr th:only-of-type {\n",
       "        vertical-align: middle;\n",
       "    }\n",
       "\n",
       "    .dataframe tbody tr th {\n",
       "        vertical-align: top;\n",
       "    }\n",
       "\n",
       "    .dataframe thead th {\n",
       "        text-align: right;\n",
       "    }\n",
       "</style>\n",
       "<table border=\"1\" class=\"dataframe\">\n",
       "  <thead>\n",
       "    <tr style=\"text-align: right;\">\n",
       "      <th></th>\n",
       "      <th>id</th>\n",
       "      <th>keyword</th>\n",
       "      <th>location</th>\n",
       "      <th>text</th>\n",
       "      <th>target</th>\n",
       "    </tr>\n",
       "  </thead>\n",
       "  <tbody>\n",
       "    <tr>\n",
       "      <th>0</th>\n",
       "      <td>1</td>\n",
       "      <td>NaN</td>\n",
       "      <td>NaN</td>\n",
       "      <td>Our Deeds are the Reason of this #earthquake M...</td>\n",
       "      <td>1</td>\n",
       "    </tr>\n",
       "    <tr>\n",
       "      <th>1</th>\n",
       "      <td>4</td>\n",
       "      <td>NaN</td>\n",
       "      <td>NaN</td>\n",
       "      <td>Forest fire near La Ronge Sask. Canada</td>\n",
       "      <td>1</td>\n",
       "    </tr>\n",
       "    <tr>\n",
       "      <th>2</th>\n",
       "      <td>5</td>\n",
       "      <td>NaN</td>\n",
       "      <td>NaN</td>\n",
       "      <td>All residents asked to 'shelter in place' are ...</td>\n",
       "      <td>1</td>\n",
       "    </tr>\n",
       "    <tr>\n",
       "      <th>3</th>\n",
       "      <td>6</td>\n",
       "      <td>NaN</td>\n",
       "      <td>NaN</td>\n",
       "      <td>13,000 people receive #wildfires evacuation or...</td>\n",
       "      <td>1</td>\n",
       "    </tr>\n",
       "    <tr>\n",
       "      <th>4</th>\n",
       "      <td>7</td>\n",
       "      <td>NaN</td>\n",
       "      <td>NaN</td>\n",
       "      <td>Just got sent this photo from Ruby #Alaska as ...</td>\n",
       "      <td>1</td>\n",
       "    </tr>\n",
       "  </tbody>\n",
       "</table>\n",
       "</div>"
      ],
      "text/plain": [
       "   id keyword location                                               text  \\\n",
       "0   1     NaN      NaN  Our Deeds are the Reason of this #earthquake M...   \n",
       "1   4     NaN      NaN             Forest fire near La Ronge Sask. Canada   \n",
       "2   5     NaN      NaN  All residents asked to 'shelter in place' are ...   \n",
       "3   6     NaN      NaN  13,000 people receive #wildfires evacuation or...   \n",
       "4   7     NaN      NaN  Just got sent this photo from Ruby #Alaska as ...   \n",
       "\n",
       "   target  \n",
       "0       1  \n",
       "1       1  \n",
       "2       1  \n",
       "3       1  \n",
       "4       1  "
      ]
     },
     "execution_count": 2,
     "metadata": {},
     "output_type": "execute_result"
    }
   ],
   "source": [
    "dataset = pd.read_csv(\"train.csv\")\n",
    "dataset.head()\n",
    "\n"
   ]
  },
  {
   "cell_type": "code",
   "execution_count": 3,
   "id": "69554752",
   "metadata": {},
   "outputs": [],
   "source": [
    "test_set = pd.read_csv(\"test.csv\")"
   ]
  },
  {
   "cell_type": "code",
   "execution_count": 4,
   "id": "b0cb9260",
   "metadata": {},
   "outputs": [
    {
     "name": "stdout",
     "output_type": "stream",
     "text": [
      "['1', '0']\n"
     ]
    }
   ],
   "source": [
    "target_category = dataset[\"target\"].unique()\n",
    "target_category=list(map(str,target_category))\n",
    "print(target_category)"
   ]
  },
  {
   "cell_type": "code",
   "execution_count": 5,
   "id": "dc6eaacd",
   "metadata": {},
   "outputs": [
    {
     "name": "stdout",
     "output_type": "stream",
     "text": [
      "7613\n",
      "3263\n"
     ]
    }
   ],
   "source": [
    "print(len(dataset))\n",
    "print(len(test_set))"
   ]
  },
  {
   "cell_type": "code",
   "execution_count": 6,
   "id": "96abaac3",
   "metadata": {},
   "outputs": [
    {
     "data": {
      "text/html": [
       "<div>\n",
       "<style scoped>\n",
       "    .dataframe tbody tr th:only-of-type {\n",
       "        vertical-align: middle;\n",
       "    }\n",
       "\n",
       "    .dataframe tbody tr th {\n",
       "        vertical-align: top;\n",
       "    }\n",
       "\n",
       "    .dataframe thead th {\n",
       "        text-align: right;\n",
       "    }\n",
       "</style>\n",
       "<table border=\"1\" class=\"dataframe\">\n",
       "  <thead>\n",
       "    <tr style=\"text-align: right;\">\n",
       "      <th></th>\n",
       "      <th>text</th>\n",
       "      <th>target</th>\n",
       "    </tr>\n",
       "  </thead>\n",
       "  <tbody>\n",
       "    <tr>\n",
       "      <th>0</th>\n",
       "      <td>Our Deeds are the Reason of this #earthquake M...</td>\n",
       "      <td>1</td>\n",
       "    </tr>\n",
       "    <tr>\n",
       "      <th>1</th>\n",
       "      <td>Forest fire near La Ronge Sask. Canada</td>\n",
       "      <td>1</td>\n",
       "    </tr>\n",
       "    <tr>\n",
       "      <th>2</th>\n",
       "      <td>All residents asked to 'shelter in place' are ...</td>\n",
       "      <td>1</td>\n",
       "    </tr>\n",
       "    <tr>\n",
       "      <th>3</th>\n",
       "      <td>13,000 people receive #wildfires evacuation or...</td>\n",
       "      <td>1</td>\n",
       "    </tr>\n",
       "    <tr>\n",
       "      <th>4</th>\n",
       "      <td>Just got sent this photo from Ruby #Alaska as ...</td>\n",
       "      <td>1</td>\n",
       "    </tr>\n",
       "  </tbody>\n",
       "</table>\n",
       "</div>"
      ],
      "text/plain": [
       "                                                text  target\n",
       "0  Our Deeds are the Reason of this #earthquake M...       1\n",
       "1             Forest fire near La Ronge Sask. Canada       1\n",
       "2  All residents asked to 'shelter in place' are ...       1\n",
       "3  13,000 people receive #wildfires evacuation or...       1\n",
       "4  Just got sent this photo from Ruby #Alaska as ...       1"
      ]
     },
     "execution_count": 6,
     "metadata": {},
     "output_type": "execute_result"
    }
   ],
   "source": [
    "dataset = dataset[['text','target']]\n",
    "dataset.head()"
   ]
  },
  {
   "cell_type": "code",
   "execution_count": 7,
   "id": "d373e0a6",
   "metadata": {},
   "outputs": [
    {
     "data": {
      "text/plain": [
       "<AxesSubplot:xlabel='target'>"
      ]
     },
     "execution_count": 7,
     "metadata": {},
     "output_type": "execute_result"
    },
    {
     "data": {
      "image/png": "[encoded data removed]",
      "text/plain": [
       "<Figure size 432x288 with 1 Axes>"
      ]
     },
     "metadata": {
      "needs_background": "light"
     },
     "output_type": "display_data"
    }
   ],
   "source": [
    "dataset.groupby(\"target\").target.count().plot.bar(ylim=0)"
   ]
  },
  {
   "cell_type": "code",
   "execution_count": 8,
   "id": "408b8a60",
   "metadata": {},
   "outputs": [
    {
     "data": {
      "text/plain": [
       "0    Our Deeds are the Reason of this #earthquake M...\n",
       "1               Forest fire near La Ronge Sask. Canada\n",
       "2    All residents asked to 'shelter in place' are ...\n",
       "3    13,000 people receive #wildfires evacuation or...\n",
       "4    Just got sent this photo from Ruby #Alaska as ...\n",
       "Name: text, dtype: object"
      ]
     },
     "execution_count": 8,
     "metadata": {},
     "output_type": "execute_result"
    }
   ],
   "source": [
    "text = dataset[\"text\"]\n",
    "text.head()"
   ]
  },
  {
   "cell_type": "code",
   "execution_count": 9,
   "id": "3c2a9dad",
   "metadata": {},
   "outputs": [
    {
     "name": "stdout",
     "output_type": "stream",
     "text": [
      "@bbcmtd Wholesale Markets ablaze http://t.co/lHYXEOHY6C\n"
     ]
    }
   ],
   "source": [
    "print(text.iloc[31])"
   ]
  },
  {
   "cell_type": "markdown",
   "id": "5e03a0fa",
   "metadata": {},
   "source": [
    "# Text Preprocessing"
   ]
  },
  {
   "cell_type": "code",
   "execution_count": 10,
   "id": "2696fc18",
   "metadata": {},
   "outputs": [],
   "source": [
    "def processing(text): \n",
    "    \n",
    "    #for row in text:\n",
    "    \n",
    "#tokenization using keras text to word sequence tokenizer\n",
    "    tokenized_text = text_to_word_sequence(text)\n",
    "    #print(tokenized_text)\n",
    "        \n",
    "#stop word removal using remove_stopwords from gensim\n",
    "    text = ' '.join(tokenized_text)\n",
    "    text = text.replace(\"'\", \"\")\n",
    "    stop_word_removed_text = remove_stopwords(text)\n",
    "    #print(stop_word_removed_text)\n",
    "        \n",
    "#remove numbers\n",
    "    number_removed_text = new_string = ''.join(filter(lambda x: not x.isdigit(), stop_word_removed_text))\n",
    "    #print(number_removed_text)\n",
    "        \n",
    "#remove extra white spaces\n",
    "    extra_whitespace_removed = word_tokenize(number_removed_text)\n",
    "    extra_whitespace_removed = number_removed_text.split()\n",
    "    #print(extra_whitespace_removed)\n",
    "        \n",
    "    extra_whitespace_removed = ' '.join(extra_whitespace_removed)\n",
    "    #print(extra_whitespace_removed)\n",
    "        \n",
    "#Convert Accented Characters(û -> u)\n",
    "    accented_removed_text = unidecode.unidecode(extra_whitespace_removed)\n",
    "    #print(accented_removed_text)\n",
    "        \n",
    "#lemmatization\n",
    "    lemmatizer = WordNetLemmatizer()\n",
    "\n",
    "    def get_wordnet_pos(word):\n",
    "        \"\"\"Map POS tag to first character lemmatize() accepts\"\"\"\n",
    "        tag = nltk.pos_tag([word])[0][1][0].upper()\n",
    "        tag_dict = {\"J\": wordnet.ADJ,\n",
    "                    \"N\": wordnet.NOUN,\n",
    "                    \"V\": wordnet.VERB,\n",
    "                    \"R\": wordnet.ADV}\n",
    "\n",
    "        return tag_dict.get(tag, wordnet.NOUN)\n",
    "\n",
    "    lem_input = nltk.word_tokenize(accented_removed_text)\n",
    "    lem_text= ' '.join([lemmatizer.lemmatize(w, get_wordnet_pos(w)) for w in lem_input])\n",
    "    #print(lem_text)\n",
    "       \n",
    "#stemming \n",
    "    stemmer= PorterStemmer()\n",
    "\n",
    "    stem_input= nltk.word_tokenize(lem_text)\n",
    "    stem_text=' '.join([stemmer.stem(word) for word in stem_input])\n",
    "    #print(stem_text) \n",
    "        \n",
    "#remove single letters\n",
    "    preprocessed_text = ' '.join( [w for w in stem_text.split() if len(w)>1] )\n",
    "    #print(preprocessed_text)\n",
    "        \n",
    "    return preprocessed_text\n",
    "        \n",
    "dataset['text']=dataset['text'].apply(processing)  "
   ]
  },
  {
   "cell_type": "code",
   "execution_count": 11,
   "id": "0229ba65",
   "metadata": {},
   "outputs": [
    {
     "data": {
      "text/plain": [
       "0                   deed reason earthquak allah forgiv\n",
       "1                      forest near la rong sask canada\n",
       "2    resid ask shelter place notifi offic evacu she...\n",
       "3          peopl receiv wildfir evacu order california\n",
       "4    get sent photo rubi alaska smoke wildfir pour ...\n",
       "5    rockyfir updat california hwi close direct lak...\n",
       "6    flood disast heavi rain caus flash flood stree...\n",
       "7                                         im hill wood\n",
       "8                there emerg evacu happen build street\n",
       "9                          im afraid tornado come area\n",
       "Name: text, dtype: object"
      ]
     },
     "execution_count": 11,
     "metadata": {},
     "output_type": "execute_result"
    }
   ],
   "source": [
    "text = dataset['text']\n",
    "text.head(10)"
   ]
  },
  {
   "cell_type": "code",
   "execution_count": 12,
   "id": "1d6d6ac9",
   "metadata": {},
   "outputs": [
    {
     "data": {
      "text/plain": [
       "0    1\n",
       "1    1\n",
       "2    1\n",
       "3    1\n",
       "4    1\n",
       "Name: target, dtype: int64"
      ]
     },
     "execution_count": 12,
     "metadata": {},
     "output_type": "execute_result"
    }
   ],
   "source": [
    "target = dataset[\"target\"]\n",
    "target.head()"
   ]
  },
  {
   "cell_type": "code",
   "execution_count": 13,
   "id": "1c111244",
   "metadata": {},
   "outputs": [
    {
     "name": "stdout",
     "output_type": "stream",
     "text": [
      "5329\n",
      "2284\n"
     ]
    }
   ],
   "source": [
    "X_train, X_test, Y_train, Y_test = train_test_split(text,target, test_size = 0.3, random_state = 60,shuffle=True)\n",
    "\n",
    "print(len(X_train))\n",
    "print(len(X_test))"
   ]
  },
  {
   "cell_type": "markdown",
   "id": "85bcee9a",
   "metadata": {},
   "source": [
    "# 1. Naive Bayes Classifier\n"
   ]
  },
  {
   "cell_type": "code",
   "execution_count": 14,
   "id": "0fa1462e",
   "metadata": {},
   "outputs": [
    {
     "name": "stdout",
     "output_type": "stream",
     "text": [
      "Naive Bayes Train Accuracy Score : 91% \n",
      "Naive Bayes Test Accuracy Score  : 79% \n",
      "\n",
      "              precision    recall  f1-score   support\n",
      "\n",
      "           1       0.89      0.78      0.84      1529\n",
      "           0       0.65      0.81      0.72       755\n",
      "\n",
      "    accuracy                           0.79      2284\n",
      "   macro avg       0.77      0.80      0.78      2284\n",
      "weighted avg       0.81      0.79      0.80      2284\n",
      "\n"
     ]
    }
   ],
   "source": [
    "nb = Pipeline([('tfidf', TfidfVectorizer()),\n",
    "               ('clf', MultinomialNB()),\n",
    "              ])\n",
    "nb.fit(X_train,Y_train)\n",
    "\n",
    "test_predict = nb.predict(X_test)\n",
    "\n",
    "train_accuracy = round(nb.score(X_train,Y_train)*100)\n",
    "test_accuracy =round(accuracy_score(test_predict, Y_test)*100)\n",
    "\n",
    "\n",
    "print(\"Naive Bayes Train Accuracy Score : {}% \".format(train_accuracy ))\n",
    "print(\"Naive Bayes Test Accuracy Score  : {}% \".format(test_accuracy ))\n",
    "print()\n",
    "print(classification_report(test_predict, Y_test, target_names=target_category))"
   ]
  },
  {
   "cell_type": "markdown",
   "id": "d0f89780",
   "metadata": {},
   "source": [
    "# 2. Support Vector Machine"
   ]
  },
  {
   "cell_type": "code",
   "execution_count": 15,
   "id": "e16c2130",
   "metadata": {},
   "outputs": [
    {
     "name": "stdout",
     "output_type": "stream",
     "text": [
      "SVM Train Accuracy Score : 97% \n",
      "SVM Test Accuracy Score  : 77% \n",
      "\n",
      "              precision    recall  f1-score   support\n",
      "\n",
      "           1       0.81      0.80      0.81      1360\n",
      "           0       0.72      0.73      0.72       924\n",
      "\n",
      "    accuracy                           0.77      2284\n",
      "   macro avg       0.76      0.77      0.77      2284\n",
      "weighted avg       0.77      0.77      0.77      2284\n",
      "\n"
     ]
    }
   ],
   "source": [
    "sgd = Pipeline([('tfidf', TfidfVectorizer()),\n",
    "                ('clf', SGDClassifier()),\n",
    "               ])\n",
    "\n",
    "sgd.fit(X_train, Y_train)\n",
    "\n",
    "test_predict = sgd.predict(X_test)\n",
    "\n",
    "train_accuracy = round(sgd.score(X_train,Y_train)*100)\n",
    "test_accuracy =round(accuracy_score(test_predict, Y_test)*100)\n",
    "\n",
    "print(\"SVM Train Accuracy Score : {}% \".format(train_accuracy ))\n",
    "print(\"SVM Test Accuracy Score  : {}% \".format(test_accuracy ))\n",
    "print()\n",
    "print(classification_report(test_predict, Y_test, target_names=target_category))"
   ]
  },
  {
   "cell_type": "markdown",
   "id": "d2984d20",
   "metadata": {},
   "source": [
    "# 3.Decision Trees"
   ]
  },
  {
   "cell_type": "code",
   "execution_count": 16,
   "id": "14408503",
   "metadata": {},
   "outputs": [
    {
     "name": "stdout",
     "output_type": "stream",
     "text": [
      "Decision Tree Train Accuracy Score : 100% \n",
      "Decision Tree Test Accuracy Score  : 73% \n",
      "\n",
      "              precision    recall  f1-score   support\n",
      "\n",
      "           1       0.77      0.77      0.77      1344\n",
      "           0       0.67      0.67      0.67       940\n",
      "\n",
      "    accuracy                           0.73      2284\n",
      "   macro avg       0.72      0.72      0.72      2284\n",
      "weighted avg       0.73      0.73      0.73      2284\n",
      "\n"
     ]
    }
   ],
   "source": [
    "dt = Pipeline([('tfidf', TfidfVectorizer()),\n",
    "                ('dt', DecisionTreeClassifier()),\n",
    "               ])\n",
    "\n",
    "dt.fit(X_train, Y_train)\n",
    "\n",
    "test_predict = dt.predict(X_test)\n",
    "\n",
    "train_accuracy = round(dt.score(X_train,Y_train)*100)\n",
    "test_accuracy =round(accuracy_score(test_predict, Y_test)*100)\n",
    "\n",
    "print(\"Decision Tree Train Accuracy Score : {}% \".format(train_accuracy ))\n",
    "print(\"Decision Tree Test Accuracy Score  : {}% \".format(test_accuracy ))\n",
    "print()\n",
    "print(classification_report(test_predict, Y_test, target_names=target_category))"
   ]
  },
  {
   "cell_type": "markdown",
   "id": "b383c69c",
   "metadata": {},
   "source": [
    "# 4. K-Nearest Neighbours"
   ]
  },
  {
   "cell_type": "code",
   "execution_count": 17,
   "id": "728ca557",
   "metadata": {},
   "outputs": [
    {
     "name": "stdout",
     "output_type": "stream",
     "text": [
      "K-Nearest Neighbour Train Accuracy Score : 83% \n",
      "K-Nearest Neighbour Test Accuracy Score  : 76% \n",
      "\n",
      "              precision    recall  f1-score   support\n",
      "\n",
      "           1       0.93      0.73      0.82      1693\n",
      "           0       0.52      0.83      0.64       591\n",
      "\n",
      "    accuracy                           0.76      2284\n",
      "   macro avg       0.72      0.78      0.73      2284\n",
      "weighted avg       0.82      0.76      0.77      2284\n",
      "\n"
     ]
    }
   ],
   "source": [
    "knn = Pipeline([('tfidf', TfidfVectorizer()),\n",
    "                ('knn', KNeighborsClassifier(n_neighbors=5, metric='euclidean')),\n",
    "               ])\n",
    "\n",
    "knn.fit(X_train, Y_train)\n",
    "\n",
    "test_predict = knn.predict(X_test)\n",
    "\n",
    "train_accuracy = round(knn.score(X_train,Y_train)*100)\n",
    "test_accuracy =round(accuracy_score(test_predict, Y_test)*100)\n",
    "\n",
    "print(\"K-Nearest Neighbour Train Accuracy Score : {}% \".format(train_accuracy ))\n",
    "print(\"K-Nearest Neighbour Test Accuracy Score  : {}% \".format(test_accuracy ))\n",
    "print()\n",
    "print(classification_report(test_predict, Y_test, target_names=target_category))"
   ]
  },
  {
   "cell_type": "markdown",
   "id": "cd68f8c8",
   "metadata": {},
   "source": [
    "# 5. Random Forest Classifier"
   ]
  },
  {
   "cell_type": "code",
   "execution_count": 18,
   "id": "71204bcd",
   "metadata": {},
   "outputs": [
    {
     "name": "stdout",
     "output_type": "stream",
     "text": [
      "Random Forest Classifier Train Accuracy Score : 100% \n",
      "Random Forest Classifier Test Accuracy Score  : 78% \n",
      "\n",
      "              precision    recall  f1-score   support\n",
      "\n",
      "           1       0.88      0.78      0.83      1521\n",
      "           0       0.64      0.79      0.71       763\n",
      "\n",
      "    accuracy                           0.78      2284\n",
      "   macro avg       0.76      0.79      0.77      2284\n",
      "weighted avg       0.80      0.78      0.79      2284\n",
      "\n"
     ]
    }
   ],
   "source": [
    "rfc = Pipeline([('tfidf', TfidfVectorizer()),\n",
    "                ('rfc', RandomForestClassifier(n_estimators=100)),\n",
    "               ])\n",
    "\n",
    "rfc.fit(X_train, Y_train)\n",
    "\n",
    "test_predict = rfc.predict(X_test)\n",
    "\n",
    "train_accuracy = round(rfc.score(X_train,Y_train)*100)\n",
    "test_accuracy =round(accuracy_score(test_predict, Y_test)*100)\n",
    "\n",
    "print(\"Random Forest Classifier Train Accuracy Score : {}% \".format(train_accuracy ))\n",
    "print(\"Random Forest Classifier Test Accuracy Score  : {}% \".format(test_accuracy ))\n",
    "print()\n",
    "print(classification_report(test_predict, Y_test, target_names=target_category))"
   ]
  },
  {
   "cell_type": "markdown",
   "id": "444ab4f8",
   "metadata": {},
   "source": [
    "# Test Data"
   ]
  },
  {
   "cell_type": "code",
   "execution_count": 19,
   "id": "54b50426",
   "metadata": {},
   "outputs": [
    {
     "data": {
      "text/html": [
       "<div>\n",
       "<style scoped>\n",
       "    .dataframe tbody tr th:only-of-type {\n",
       "        vertical-align: middle;\n",
       "    }\n",
       "\n",
       "    .dataframe tbody tr th {\n",
       "        vertical-align: top;\n",
       "    }\n",
       "\n",
       "    .dataframe thead th {\n",
       "        text-align: right;\n",
       "    }\n",
       "</style>\n",
       "<table border=\"1\" class=\"dataframe\">\n",
       "  <thead>\n",
       "    <tr style=\"text-align: right;\">\n",
       "      <th></th>\n",
       "      <th>id</th>\n",
       "      <th>keyword</th>\n",
       "      <th>location</th>\n",
       "      <th>text</th>\n",
       "    </tr>\n",
       "  </thead>\n",
       "  <tbody>\n",
       "    <tr>\n",
       "      <th>0</th>\n",
       "      <td>0</td>\n",
       "      <td>NaN</td>\n",
       "      <td>NaN</td>\n",
       "      <td>Just happened a terrible car crash</td>\n",
       "    </tr>\n",
       "    <tr>\n",
       "      <th>1</th>\n",
       "      <td>2</td>\n",
       "      <td>NaN</td>\n",
       "      <td>NaN</td>\n",
       "      <td>Heard about #earthquake is different cities, s...</td>\n",
       "    </tr>\n",
       "    <tr>\n",
       "      <th>2</th>\n",
       "      <td>3</td>\n",
       "      <td>NaN</td>\n",
       "      <td>NaN</td>\n",
       "      <td>there is a forest fire at spot pond, geese are...</td>\n",
       "    </tr>\n",
       "    <tr>\n",
       "      <th>3</th>\n",
       "      <td>9</td>\n",
       "      <td>NaN</td>\n",
       "      <td>NaN</td>\n",
       "      <td>Apocalypse lighting. #Spokane #wildfires</td>\n",
       "    </tr>\n",
       "    <tr>\n",
       "      <th>4</th>\n",
       "      <td>11</td>\n",
       "      <td>NaN</td>\n",
       "      <td>NaN</td>\n",
       "      <td>Typhoon Soudelor kills 28 in China and Taiwan</td>\n",
       "    </tr>\n",
       "  </tbody>\n",
       "</table>\n",
       "</div>"
      ],
      "text/plain": [
       "   id keyword location                                               text\n",
       "0   0     NaN      NaN                 Just happened a terrible car crash\n",
       "1   2     NaN      NaN  Heard about #earthquake is different cities, s...\n",
       "2   3     NaN      NaN  there is a forest fire at spot pond, geese are...\n",
       "3   9     NaN      NaN           Apocalypse lighting. #Spokane #wildfires\n",
       "4  11     NaN      NaN      Typhoon Soudelor kills 28 in China and Taiwan"
      ]
     },
     "execution_count": 19,
     "metadata": {},
     "output_type": "execute_result"
    }
   ],
   "source": [
    "test_set.head()"
   ]
  },
  {
   "cell_type": "code",
   "execution_count": 20,
   "id": "8d1d6693",
   "metadata": {},
   "outputs": [],
   "source": [
    "test_set['text'] = test_set['text'].apply(processing)\n",
    "\n",
    "test_id = test_set['id']\n",
    "test_text = test_set['text']\n",
    "y_prdict = nb.predict(test_text)"
   ]
  },
  {
   "cell_type": "code",
   "execution_count": 21,
   "id": "0edb2fe4",
   "metadata": {},
   "outputs": [
    {
     "data": {
      "text/html": [
       "<div>\n",
       "<style scoped>\n",
       "    .dataframe tbody tr th:only-of-type {\n",
       "        vertical-align: middle;\n",
       "    }\n",
       "\n",
       "    .dataframe tbody tr th {\n",
       "        vertical-align: top;\n",
       "    }\n",
       "\n",
       "    .dataframe thead th {\n",
       "        text-align: right;\n",
       "    }\n",
       "</style>\n",
       "<table border=\"1\" class=\"dataframe\">\n",
       "  <thead>\n",
       "    <tr style=\"text-align: right;\">\n",
       "      <th></th>\n",
       "      <th>id</th>\n",
       "      <th>target</th>\n",
       "    </tr>\n",
       "  </thead>\n",
       "  <tbody>\n",
       "    <tr>\n",
       "      <th>0</th>\n",
       "      <td>0</td>\n",
       "      <td>1</td>\n",
       "    </tr>\n",
       "    <tr>\n",
       "      <th>1</th>\n",
       "      <td>2</td>\n",
       "      <td>1</td>\n",
       "    </tr>\n",
       "    <tr>\n",
       "      <th>2</th>\n",
       "      <td>3</td>\n",
       "      <td>1</td>\n",
       "    </tr>\n",
       "    <tr>\n",
       "      <th>3</th>\n",
       "      <td>9</td>\n",
       "      <td>1</td>\n",
       "    </tr>\n",
       "    <tr>\n",
       "      <th>4</th>\n",
       "      <td>11</td>\n",
       "      <td>1</td>\n",
       "    </tr>\n",
       "    <tr>\n",
       "      <th>5</th>\n",
       "      <td>12</td>\n",
       "      <td>1</td>\n",
       "    </tr>\n",
       "    <tr>\n",
       "      <th>6</th>\n",
       "      <td>21</td>\n",
       "      <td>0</td>\n",
       "    </tr>\n",
       "    <tr>\n",
       "      <th>7</th>\n",
       "      <td>22</td>\n",
       "      <td>0</td>\n",
       "    </tr>\n",
       "    <tr>\n",
       "      <th>8</th>\n",
       "      <td>27</td>\n",
       "      <td>0</td>\n",
       "    </tr>\n",
       "    <tr>\n",
       "      <th>9</th>\n",
       "      <td>29</td>\n",
       "      <td>0</td>\n",
       "    </tr>\n",
       "    <tr>\n",
       "      <th>10</th>\n",
       "      <td>30</td>\n",
       "      <td>0</td>\n",
       "    </tr>\n",
       "    <tr>\n",
       "      <th>11</th>\n",
       "      <td>35</td>\n",
       "      <td>0</td>\n",
       "    </tr>\n",
       "    <tr>\n",
       "      <th>12</th>\n",
       "      <td>42</td>\n",
       "      <td>0</td>\n",
       "    </tr>\n",
       "    <tr>\n",
       "      <th>13</th>\n",
       "      <td>43</td>\n",
       "      <td>0</td>\n",
       "    </tr>\n",
       "    <tr>\n",
       "      <th>14</th>\n",
       "      <td>45</td>\n",
       "      <td>0</td>\n",
       "    </tr>\n",
       "    <tr>\n",
       "      <th>15</th>\n",
       "      <td>46</td>\n",
       "      <td>1</td>\n",
       "    </tr>\n",
       "    <tr>\n",
       "      <th>16</th>\n",
       "      <td>47</td>\n",
       "      <td>0</td>\n",
       "    </tr>\n",
       "    <tr>\n",
       "      <th>17</th>\n",
       "      <td>51</td>\n",
       "      <td>1</td>\n",
       "    </tr>\n",
       "    <tr>\n",
       "      <th>18</th>\n",
       "      <td>58</td>\n",
       "      <td>0</td>\n",
       "    </tr>\n",
       "    <tr>\n",
       "      <th>19</th>\n",
       "      <td>60</td>\n",
       "      <td>0</td>\n",
       "    </tr>\n",
       "  </tbody>\n",
       "</table>\n",
       "</div>"
      ],
      "text/plain": [
       "    id  target\n",
       "0    0       1\n",
       "1    2       1\n",
       "2    3       1\n",
       "3    9       1\n",
       "4   11       1\n",
       "5   12       1\n",
       "6   21       0\n",
       "7   22       0\n",
       "8   27       0\n",
       "9   29       0\n",
       "10  30       0\n",
       "11  35       0\n",
       "12  42       0\n",
       "13  43       0\n",
       "14  45       0\n",
       "15  46       1\n",
       "16  47       0\n",
       "17  51       1\n",
       "18  58       0\n",
       "19  60       0"
      ]
     },
     "execution_count": 21,
     "metadata": {},
     "output_type": "execute_result"
    }
   ],
   "source": [
    "submission = pd.DataFrame(list(zip(test_id, y_prdict)),\n",
    "               columns =['id', 'target'])\n",
    "submission.head(20)"
   ]
  },
  {
   "cell_type": "code",
   "execution_count": null,
   "id": "2573e6b6",
   "metadata": {},
   "outputs": [],
   "source": []
  }
 ],
 "metadata": {
  "kernelspec": {
   "display_name": "Python 3",
   "language": "python",
   "name": "python3"
  },
  "language_info": {
   "codemirror_mode": {
    "name": "ipython",
    "version": 3
   },
   "file_extension": ".py",
   "mimetype": "text/x-python",
   "name": "python",
   "nbconvert_exporter": "python",
   "pygments_lexer": "ipython3",
   "version": "3.6.10"
  }
 },
 "nbformat": 4,
 "nbformat_minor": 5
}
